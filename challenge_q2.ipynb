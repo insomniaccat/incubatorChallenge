{
 "cells": [
  {
   "cell_type": "markdown",
   "metadata": {},
   "source": [
    "The Stanford Open Policing Datasets provide information on traffic stops in different states. Please download the csv files for Montana and Vermont. You may also find the README file helpful as you work through the challenge questions. It contains useful information about the dataset, including column descriptions."
   ]
  },
  {
   "cell_type": "code",
   "execution_count": 102,
   "metadata": {},
   "outputs": [],
   "source": [
    "#import dependencies\n",
    "import pandas as pd\n",
    "import numpy as np\n",
    "import scipy.stats as stats\n",
    "import statsmodels.api as sm\n",
    "\n",
    "from math import pi, cos\n",
    "from sklearn import linear_model"
   ]
  },
  {
   "cell_type": "code",
   "execution_count": 12,
   "metadata": {},
   "outputs": [],
   "source": [
    "#read data\n",
    "MT = pd.read_csv('MT_cleaned.csv', low_memory=False) # montana\n",
    "VT = pd.read_csv('VT_cleaned.csv',  low_memory=False) # vermont"
   ]
  },
  {
   "cell_type": "markdown",
   "metadata": {},
   "source": [
    "**What proportion of traffic stops in Montana involved male drivers? In other words, divide the number of traffic stops involving male drivers by the total number of stops.**"
   ]
  },
  {
   "cell_type": "code",
   "execution_count": 13,
   "metadata": {},
   "outputs": [
    {
     "name": "stdout",
     "output_type": "stream",
     "text": [
      "dict_keys(['F', 'M'])\n",
      "driver_gender\n",
      "F    268065\n",
      "M    556934\n",
      "dtype: int64\n"
     ]
    }
   ],
   "source": [
    "#Explore Gender Data\n",
    "byGender = MT.groupby('driver_gender')\n",
    "byGenderKeys = byGender.groups.keys()\n",
    "print(byGenderKeys)\n",
    "genderCount = byGender.apply(len)\n",
    "print(genderCount)"
   ]
  },
  {
   "cell_type": "code",
   "execution_count": 14,
   "metadata": {},
   "outputs": [
    {
     "name": "stdout",
     "output_type": "stream",
     "text": [
      "Proportion of traffic stops in Montana involving Male Drivers: \n"
     ]
    },
    {
     "data": {
      "text/plain": [
       "0.6750723334210103"
      ]
     },
     "execution_count": 14,
     "metadata": {},
     "output_type": "execute_result"
    }
   ],
   "source": [
    "#problem 1\n",
    "gCount = genderCount.values\n",
    "maleProportion = gCount[1]/(gCount[0]+gCount[1])\n",
    "print(\"Proportion of traffic stops in Montana involving Male Drivers: \")\n",
    "maleProportion"
   ]
  },
  {
   "cell_type": "markdown",
   "metadata": {},
   "source": [
    "**How many more times likely are you to be arrested in Montana during a traffic stop if you have out of state plates?**"
   ]
  },
  {
   "cell_type": "code",
   "execution_count": 18,
   "metadata": {},
   "outputs": [
    {
     "name": "stdout",
     "output_type": "stream",
     "text": [
      "dict_keys([(False, True), (False, False), (True, nan), (True, False), (False, nan), (True, True)])\n"
     ]
    },
    {
     "data": {
      "text/plain": [
       "is_arrested  out_of_state\n",
       "False        False           604588\n",
       "             True            198773\n",
       "True         False            12190\n",
       "             True              4868\n",
       "dtype: int64"
      ]
     },
     "execution_count": 18,
     "metadata": {},
     "output_type": "execute_result"
    }
   ],
   "source": [
    "#problem 2\n",
    "#Explore Out of State Data\n",
    "byOutOfState = MT.groupby(['is_arrested', 'out_of_state'])\n",
    "byOutOfStateKeys = byOutOfState.groups.keys()\n",
    "print(byOutOfStateKeys)\n",
    "#There are some 'nan' values that we must ignore for out of state\n",
    "OutOfStateCount = byOutOfState.apply(len)\n",
    "OutOfStateCount"
   ]
  },
  {
   "cell_type": "code",
   "execution_count": 27,
   "metadata": {},
   "outputs": [
    {
     "name": "stdout",
     "output_type": "stream",
     "text": [
      "Ratio of being arrested w/ Out of State plates vs in-state plates: \n"
     ]
    },
    {
     "data": {
      "text/plain": [
       "1.2095129351452942"
      ]
     },
     "execution_count": 27,
     "metadata": {},
     "output_type": "execute_result"
    }
   ],
   "source": [
    "#We need to find probability of being arrested, given out of state plates: \n",
    "#And probability of being arrested, given in-state plates:\n",
    "#i.e. P(Arrested | Out of State) = P(Arrested and Out of State)/P(Out of State)\n",
    "#and P(Arrested | In-State) = P(Arrested and In-State)/P(In-State)\n",
    "OoSCount = OutOfStateCount.values\n",
    "#print(OoSCount)\n",
    "total = OutOfStateCount.values.sum()\n",
    "#print(total)\n",
    "P_A_given_OoS = OoSCount[3]/(OoSCount[1] + OoSCount[3])\n",
    "P_A_given_IS  = OoSCount[2]/(OoSCount[0] + OoSCount[2])\n",
    "print(\"Ratio of being arrested w/ Out of State plates vs in-state plates: \")\n",
    "prob = P_A_given_OoS/P_A_given_IS\n",
    "prob"
   ]
  },
  {
   "cell_type": "markdown",
   "metadata": {},
   "source": [
    "**Perform a (χ2) test to determine whether the proportions of arrests in these two populations are equal. What is the value of the test statistic?**"
   ]
  },
  {
   "cell_type": "code",
   "execution_count": 34,
   "metadata": {},
   "outputs": [
    {
     "name": "stdout",
     "output_type": "stream",
     "text": [
      "False    807923\n",
      "True      17195\n",
      "Name: is_arrested, dtype: int64\n",
      "----------------------------------------------------------------------\n",
      "False    279954\n",
      "True       3331\n",
      "Name: is_arrested, dtype: int64\n"
     ]
    }
   ],
   "source": [
    "#problem 3\n",
    "#Explore Arrest Data for both States\n",
    "mtArrest = MT.is_arrested.value_counts()\n",
    "print(mtArrest)\n",
    "\n",
    "print(\"-\"*70)\n",
    "\n",
    "vtArrest = VT.is_arrested.value_counts()\n",
    "print(vtArrest)"
   ]
  },
  {
   "cell_type": "markdown",
   "metadata": {},
   "source": [
    "**Create Cross Table of Observed Frequencies:**\n",
    "\n",
    "|  || Montana | Vermont |\n",
    "| --- | --- | --- |\n",
    "| Arrested || 17195 | 3331 |\n",
    "| Not Arrested || 807923 | 279954 |"
   ]
  },
  {
   "cell_type": "markdown",
   "metadata": {},
   "source": [
    "Now, follow the method outlined in http://www.stat.wmich.edu/s216/book/node115.html for chi-squared statistic. <br> <br>\n",
    "We are nterested in comparing arrest rate in Montana vs arrest rate in Vermont.The null hypothesis can be written as: <br> <br> \n",
    "<center>$H_0: p_1  = p_2$ <br>\n",
    "vs <br>\n",
    "$H_1: p_1 \\neq p_2$ <br> <br></center>\n",
    "Find the Expected values and then use them with observed in following formula: <br> <br>\n",
    "<center>$\\chi^2=\\sum_{k=1}^{n} \\frac{(O_k - E_k)^2}{E_k}$</center>"
   ]
  },
  {
   "cell_type": "code",
   "execution_count": 50,
   "metadata": {},
   "outputs": [
    {
     "name": "stdout",
     "output_type": "stream",
     "text": [
      "Chi-squared statistic value is: \n"
     ]
    },
    {
     "data": {
      "text/plain": [
       "956.2921877903868"
      ]
     },
     "execution_count": 50,
     "metadata": {},
     "output_type": "execute_result"
    }
   ],
   "source": [
    "A_m, nA_m = MT.is_arrested.value_counts()\n",
    "A_v, nA_v = VT.is_arrested.value_counts()\n",
    "N = MT.is_arrested.count() + VT.is_arrested.count()\n",
    "#create contingency table\n",
    "conTbl = np.array([[A_m, A_v], [nA_m, nA_v]])\n",
    "chi2, p, dof, ex = stats.chi2_contingency(conTbl)\n",
    "print(\"Chi-squared statistic value is: \")\n",
    "chi2"
   ]
  },
  {
   "cell_type": "markdown",
   "metadata": {},
   "source": [
    "**What proportion of traffic stops in Montana resulted in speeding violations? In other words, find the number of violations that include \"Speeding\" in the violation description and divide that number by the total number of stops (or rows in the Montana dataset).**"
   ]
  },
  {
   "cell_type": "code",
   "execution_count": 69,
   "metadata": {},
   "outputs": [
    {
     "name": "stdout",
     "output_type": "stream",
     "text": [
      "Proportion of stops that resulted in speeding violations: \n"
     ]
    },
    {
     "data": {
      "text/plain": [
       "0.6581580398644923"
      ]
     },
     "execution_count": 69,
     "metadata": {},
     "output_type": "execute_result"
    }
   ],
   "source": [
    "#problem 04\n",
    "byViolation = MT.groupby('violation')\n",
    "vTotal_mt = MT.violation.count()\n",
    "vCount = MT.violation.str.contains(\"Speeding|speeding\").sum()\n",
    "speedProportion = vCount/(vTotal_mt)\n",
    "print(\"Proportion of stops that resulted in speeding violations: \")\n",
    "speedProportion"
   ]
  },
  {
   "cell_type": "markdown",
   "metadata": {},
   "source": [
    "**How much more likely does a traffic stop in Montana result in a DUI than a traffic stop in Vermont? To compute the proportion of traffic stops that result in a DUI, divide the number of stops with \"DUI\" in the violation description by the total number of stops.**"
   ]
  },
  {
   "cell_type": "code",
   "execution_count": 75,
   "metadata": {},
   "outputs": [
    {
     "name": "stdout",
     "output_type": "stream",
     "text": [
      "Likelihood of proportion of stops with DUI in MT vs VT: \n"
     ]
    },
    {
     "data": {
      "text/plain": [
       "4.054943765214862"
      ]
     },
     "execution_count": 75,
     "metadata": {},
     "output_type": "execute_result"
    }
   ],
   "source": [
    "#problem 05\n",
    "duiCount_mt = MT.violation.str.contains(\"DUI\").sum()\n",
    "duiProportion_mt = duiCount_mt/(vTotal_mt)\n",
    "\n",
    "byViolation = VT.groupby('violation')\n",
    "vTotal_vt = VT.violation.count()\n",
    "duiCount_vt = VT.violation.str.contains(\"DUI\").sum()\n",
    "duiProportion_vt = duiCount_vt/(vTotal_vt)\n",
    "\n",
    "duiMoreLikely = duiProportion_mt/duiProportion_vt\n",
    "print(\"Likelihood of proportion of stops with DUI in MT vs VT: \")\n",
    "duiMoreLikely"
   ]
  },
  {
   "cell_type": "markdown",
   "metadata": {},
   "source": [
    "**What is the extrapolated, average manufacture year of vehicles involved in traffic stops in Montana in 2020? To answer this question, calculate the average vehicle manufacture year for each year's traffic stops. Extrapolate using a linear regression.**"
   ]
  },
  {
   "cell_type": "code",
   "execution_count": 76,
   "metadata": {},
   "outputs": [
    {
     "name": "stderr",
     "output_type": "stream",
     "text": [
      "/home/usama/.virtualenvs/tensorflow/lib/python3.5/site-packages/ipykernel_launcher.py:3: SettingWithCopyWarning: \n",
      "A value is trying to be set on a copy of a slice from a DataFrame.\n",
      "Try using .loc[row_indexer,col_indexer] = value instead\n",
      "\n",
      "See the caveats in the documentation: http://pandas.pydata.org/pandas-docs/stable/indexing.html#indexing-view-versus-copy\n",
      "  This is separate from the ipykernel package so we can avoid doing imports until\n"
     ]
    }
   ],
   "source": [
    "#problem 6\n",
    "df = MT[['stop_date','vehicle_year']]\n",
    "df[\"stop_date\"] = pd.to_datetime(df[\"stop_date\"]).dt.year"
   ]
  },
  {
   "cell_type": "code",
   "execution_count": 85,
   "metadata": {},
   "outputs": [],
   "source": [
    "#Explore Data for Vehicle Year\n",
    "byVehicleDate = df.groupby('vehicle_year')\n",
    "#print(byVehicleDate.count())\n",
    "byVehicleDateKeys = byVehicleDate.groups.keys()\n",
    "#print(byVehicleDateKeys)"
   ]
  },
  {
   "cell_type": "code",
   "execution_count": 86,
   "metadata": {},
   "outputs": [
    {
     "name": "stdout",
     "output_type": "stream",
     "text": [
      "   stop_date  vehicle_year\n",
      "0     2009.0   2000.980215\n",
      "1     2010.0   2001.521377\n",
      "2     2011.0   2002.280938\n",
      "3     2012.0   2003.362207\n",
      "4     2013.0   2003.905175\n"
     ]
    }
   ],
   "source": [
    "#remove NON and UNK and get X and Y data for regression\n",
    "df = df[~df['vehicle_year'].isin(['NON-', 'UNK'])]\n",
    "df['vehicle_year'] = df['vehicle_year'].astype('float64') \n",
    "byVehicleDate = df.groupby('vehicle_year')\n",
    "#print(byVehicleDate.count())\n",
    "byStopDate = df.groupby('stop_date', as_index=False).agg({\"vehicle_year\": \"mean\"})\n",
    "print(byStopDate.head())\n",
    "#print(type(byStopDate))\n",
    "X = byStopDate['stop_date'].values\n",
    "X = X[:,None]\n",
    "#print(X)\n",
    "Y = byStopDate['vehicle_year'].values\n",
    "\n",
    "#print(Y)"
   ]
  },
  {
   "cell_type": "code",
   "execution_count": 89,
   "metadata": {},
   "outputs": [
    {
     "name": "stdout",
     "output_type": "stream",
     "text": [
      "559.661028049426 [0.7174169]\n",
      "----------------------------------------------------------------------\n",
      "Prediction for 2020: \n"
     ]
    },
    {
     "data": {
      "text/plain": [
       "array([2008.84316596])"
      ]
     },
     "execution_count": 89,
     "metadata": {},
     "output_type": "execute_result"
    }
   ],
   "source": [
    "#regression\n",
    "lm = linear_model.LinearRegression()\n",
    "model = lm.fit(X,Y)\n",
    "#predictions = model.predict(X)\n",
    "predictions = lm.predict(2020)\n",
    "print(model.intercept_, model.coef_)\n",
    "print(\"-\"*70)\n",
    "print(\"Prediction for 2020: \")\n",
    "predictions"
   ]
  },
  {
   "cell_type": "markdown",
   "metadata": {},
   "source": [
    "**What is the p-value of this linear regression?**"
   ]
  },
  {
   "cell_type": "code",
   "execution_count": 92,
   "metadata": {},
   "outputs": [
    {
     "name": "stdout",
     "output_type": "stream",
     "text": [
      "p-value: \n"
     ]
    },
    {
     "data": {
      "text/plain": [
       "1.5226470572045793e-05"
      ]
     },
     "execution_count": 92,
     "metadata": {},
     "output_type": "execute_result"
    }
   ],
   "source": [
    "#problem 7\n",
    "X2 = sm.add_constant(X)\n",
    "model = sm.OLS(Y, X2).fit()\n",
    "#print(model.summary())\n",
    "#print(\"-\"*70)\n",
    "print(\"p-value: \")\n",
    "model.pvalues[0]"
   ]
  },
  {
   "cell_type": "markdown",
   "metadata": {},
   "source": [
    "**Combining both the Vermont and Montana datasets, find the hours when the most and least number of traffic stops occurred. What is the difference in the total number of stops that occurred in these two hours? Hours range from 00 to 23. Round stop times down to compute this difference.**"
   ]
  },
  {
   "cell_type": "code",
   "execution_count": 94,
   "metadata": {},
   "outputs": [
    {
     "name": "stdout",
     "output_type": "stream",
     "text": [
      "total num of stops: \n"
     ]
    },
    {
     "data": {
      "text/plain": [
       "95344.0"
      ]
     },
     "execution_count": 94,
     "metadata": {},
     "output_type": "execute_result"
    }
   ],
   "source": [
    "#problem 8\n",
    "MT['hour'] = pd.to_datetime(MT['stop_time'], format='%H:%M').dt.hour\n",
    "VT['hour'] = pd.to_datetime(VT['stop_time'], format='%H:%M').dt.hour\n",
    "byHourMT = MT[['hour','stop_time']]\n",
    "byHourVT = VT[['hour','stop_time']]\n",
    "\n",
    "byHour = pd.concat([byHourMT, byHourVT])\n",
    "#byHour =byHour.groupby('hour')\n",
    "#print(byHour.count())\n",
    "byHour = byHour.groupby('hour', as_index=False).agg({\"stop_time\": \"count\"})\n",
    "data = byHour.values\n",
    "hours = data[:,0]\n",
    "counts = data[:,1]\n",
    "maxValue = np.max(counts)\n",
    "maxIdx = np.argmax(counts)\n",
    "#print(\"Max Value: \", maxValue)\n",
    "#print(\"Max Hour: \", hours[maxIdx])\n",
    "minValue = np.min(counts)\n",
    "minIdx = np.argmin(counts)\n",
    "#print(\"Min Value: \", minValue)\n",
    "#print(\"Min Hour: \", hours[minIdx])\n",
    "#print(\"-\"*70)\n",
    "print(\"total num of stops: \")\n",
    "maxValue-minValue"
   ]
  },
  {
   "cell_type": "markdown",
   "metadata": {},
   "source": [
    "**We can use the traffic stop locations to estimate the areas of the counties in Montana. Represent each county as an ellipse with semi-axes given by a single standard deviation of the longitude and latitude of stops within that county. What is the area, in square kilometers, of the largest county measured in this manner? Please ignore unrealistic latitude and longitude coordinates.**"
   ]
  },
  {
   "cell_type": "code",
   "execution_count": 107,
   "metadata": {},
   "outputs": [],
   "source": [
    "forEllipse = MT[['county_fips', 'county_name', 'lon', 'lat']]\n",
    "#print(forEllipse.head())"
   ]
  },
  {
   "cell_type": "code",
   "execution_count": 108,
   "metadata": {},
   "outputs": [],
   "source": [
    "#print(forEllipse.county_name.unique())"
   ]
  },
  {
   "cell_type": "code",
   "execution_count": 109,
   "metadata": {},
   "outputs": [],
   "source": [
    "#print(forEllipse.groupby('county_name').count())"
   ]
  },
  {
   "cell_type": "markdown",
   "metadata": {},
   "source": [
    "Montana, USA Lat Long Coordinates Info:<br> The latitude of Montana, USA is 46.965260, and the longitude is -109.533691."
   ]
  },
  {
   "cell_type": "code",
   "execution_count": 110,
   "metadata": {},
   "outputs": [],
   "source": [
    "forEllipse = forEllipse[np.isfinite(forEllipse['lon'])]\n",
    "forEllipse = forEllipse[np.isfinite(forEllipse['lat'])]\n",
    "#print(forEllipse.count())"
   ]
  },
  {
   "cell_type": "code",
   "execution_count": 124,
   "metadata": {},
   "outputs": [
    {
     "name": "stdout",
     "output_type": "stream",
     "text": [
      "   county_fips        county_name       lon       lat\n",
      "0      30001.0  Beaverhead County  0.185625  0.268133\n",
      "1      30003.0    Big Horn County  1.937072  0.112396\n",
      "2      30005.0      Blaine County  0.258872  0.042086\n",
      "3      30007.0  Broadwater County  7.825885  3.248041\n",
      "4      30009.0      Carbon County  0.164160  0.150638\n"
     ]
    }
   ],
   "source": [
    "byCounty = forEllipse.groupby('county_fips', as_index=False).agg({\"county_name\": 'max', \"lon\": \"std\", \"lat\": \"std\"})\n",
    "print(byCounty.head())"
   ]
  },
  {
   "cell_type": "markdown",
   "metadata": {},
   "source": [
    "Each degree of latitude is approximately 111.321 kilometers apart. <br>\n",
    "1 degree of longitude = cosine(latitude in degrees) x length of degree at equator(~111.321km)\n",
    "<br>\n",
    "**Source:** <br>\n",
    "https://www.colorado.edu/geography/gcraft/warmup/aquifer/html/distance.html <br>\n"
   ]
  },
  {
   "cell_type": "markdown",
   "metadata": {},
   "source": [
    "Area of an Ellipse = $\\pi*a*b$ <br>\n",
    "where, a and b are the lengths of the semi-minor and semi-major axes"
   ]
  },
  {
   "cell_type": "code",
   "execution_count": 129,
   "metadata": {},
   "outputs": [
    {
     "name": "stdout",
     "output_type": "stream",
     "text": [
      "\n",
      "County with Max area from number of traffic stops:  \n",
      "\n",
      "Broadwater County\n"
     ]
    },
    {
     "data": {
      "text/plain": [
       "205.74155905010772"
      ]
     },
     "execution_count": 129,
     "metadata": {},
     "output_type": "execute_result"
    }
   ],
   "source": [
    "byCounty[\"lat_km\"] = byCounty[\"lat\"]*(pi/180)*111.321 \n",
    "Lati = 46.96\n",
    "cosLati = cos(Lati*(pi/180))\n",
    "byCounty[\"lon_km\"] = byCounty[\"lon\"]*(pi/180)*111.321*cosLati\n",
    "byCounty[\"area\"] = byCounty[\"lat_km\"]*byCounty[\"lon_km\"]*pi\n",
    "print()\n",
    "max_area = byCounty['area'].max()\n",
    "max_loc = byCounty['area'].idxmax()\n",
    "county_max = byCounty.county_name[max_loc]\n",
    "print(\"County with Max area from number of traffic stops: \",'\\n')\n",
    "print(county_max)\n",
    "max_area"
   ]
  },
  {
   "cell_type": "code",
   "execution_count": null,
   "metadata": {},
   "outputs": [],
   "source": []
  }
 ],
 "metadata": {
  "kernelspec": {
   "display_name": "Python 3",
   "language": "python",
   "name": "python3"
  },
  "language_info": {
   "codemirror_mode": {
    "name": "ipython",
    "version": 3
   },
   "file_extension": ".py",
   "mimetype": "text/x-python",
   "name": "python",
   "nbconvert_exporter": "python",
   "pygments_lexer": "ipython3",
   "version": "3.5.2"
  }
 },
 "nbformat": 4,
 "nbformat_minor": 2
}
