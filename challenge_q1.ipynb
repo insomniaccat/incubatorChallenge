{
 "cells": [
  {
   "cell_type": "code",
   "execution_count": 35,
   "metadata": {},
   "outputs": [],
   "source": [
    "#import libraries\n",
    "import numpy as np\n",
    "import random"
   ]
  },
  {
   "cell_type": "code",
   "execution_count": 36,
   "metadata": {},
   "outputs": [],
   "source": [
    "random.seed(2)"
   ]
  },
  {
   "cell_type": "markdown",
   "metadata": {},
   "source": [
    "To solve this challenge, we can either use a random walk and calculate the expectation of $D$ as $E \\lbrack D \\rbrack = max(\\frac{ \\lbrack X \\rbrack }{m} - \\frac{E \\lbrack Y \\rbrack }{n}, \\frac{E \\lbrack Y \\rbrack }{n} - \\frac{E \\lbrack X \\rbrack }{m}$)\n",
    "\n",
    "where, $X$ can take values $0$ or $1$ with probability, $\\frac{1}{2}$ and the same goes for $Y$ <br> <br>\n",
    "or <br> <br>\n",
    "We could simulate the ant's path for a large number of trials and estimate the mean and other quantities through that simulation data. <br> <br>\n",
    "\n",
    "I have chosen to implement the second method for this challenge. For $D$, I take the maximum of all the deviations, $d$ for a single path. This wasn't clear to me so that's what I chose to do. <br> <br>\n",
    "\n",
    "If there's time, I'll try to implement the first method too. "
   ]
  },
  {
   "cell_type": "code",
   "execution_count": 37,
   "metadata": {},
   "outputs": [],
   "source": [
    "def walkPath(m,n):\n",
    "    x = 0.0\n",
    "    y = 0.0\n",
    "    d = []\n",
    "    for j in range(m+n):\n",
    "        direction = random.randint(0,1)\n",
    "        if(direction == 0 and x<m):\n",
    "            x += 1.0\n",
    "        elif(direction == 1 and y<n):\n",
    "            y += 1.0\n",
    "        elif(x==m):\n",
    "            y += 1\n",
    "        elif(y==n):\n",
    "            x += 1\n",
    "        \n",
    "        dev = max(x/m-y/n, y/n-x/m)\n",
    "        #print(x,y)\n",
    "        d.append(dev)\n",
    "    D = max(d)\n",
    "    return D"
   ]
  },
  {
   "cell_type": "code",
   "execution_count": 38,
   "metadata": {},
   "outputs": [],
   "source": [
    "def simulateWalk(m,n, num_trials):\n",
    "    deviations = []\n",
    "    a = 0.6\n",
    "    b = 0.2\n",
    "    for i in range(num_trials):\n",
    "        D = walkPath(m,n)\n",
    "        deviations.append(D)\n",
    "    dev = np.array(deviations)\n",
    "    mean_value = np.mean(deviations)\n",
    "    std_dev = np.std(deviations)\n",
    "    cond_prob = np.sum(dev>a)/np.sum(dev>b)\n",
    "    return mean_value, std_dev, cond_prob"
   ]
  },
  {
   "cell_type": "markdown",
   "metadata": {},
   "source": [
    "**What is the mean of D when m=11 and n=7?** <br> \n",
    "**What is the standard deviation of D when m=11 and n=7?** <br>\n",
    "**What is the conditional probability that D is greater than 0.6 given that it is greater than 0.2 when m=11 and n=7?**"
   ]
  },
  {
   "cell_type": "code",
   "execution_count": 39,
   "metadata": {},
   "outputs": [
    {
     "name": "stdout",
     "output_type": "stream",
     "text": [
      "mean:  0.5185815584415584\n",
      "standard deviation:  0.1820888007345404\n",
      "conditional probability:  0.32817268629868424\n"
     ]
    }
   ],
   "source": [
    "mu, std_dev, p = simulateWalk(11,7,100000)\n",
    "print(\"mean: \",mu)\n",
    "print(\"standard deviation: \",std_dev)\n",
    "print(\"conditional probability: \",p)"
   ]
  },
  {
   "cell_type": "markdown",
   "metadata": {},
   "source": [
    "**What is the mean of D when m=23 and n=31?** <br> \n",
    "**What is the standard deviation of D when m=23 and n=31?** <br>\n",
    "**What is the conditional probability that D is greater than 0.6 given that it is greater than 0.2 when m=23 and n=31?**"
   ]
  },
  {
   "cell_type": "code",
   "execution_count": 40,
   "metadata": {},
   "outputs": [
    {
     "name": "stdout",
     "output_type": "stream",
     "text": [
      "mean:  0.35342332398316967 \n",
      " standard deviation:  0.1371532343461288 \n",
      " conditional probability:  0.0636604774535809\n"
     ]
    }
   ],
   "source": [
    "mu, std_dev, p = simulateWalk(23,31,100000)\n",
    "print(\"mean: \",mu,'\\n',\"standard deviation: \",std_dev,'\\n',\"conditional probability: \",p)"
   ]
  },
  {
   "cell_type": "code",
   "execution_count": null,
   "metadata": {},
   "outputs": [],
   "source": []
  }
 ],
 "metadata": {
  "kernelspec": {
   "display_name": "Python 3",
   "language": "python",
   "name": "python3"
  },
  "language_info": {
   "codemirror_mode": {
    "name": "ipython",
    "version": 3
   },
   "file_extension": ".py",
   "mimetype": "text/x-python",
   "name": "python",
   "nbconvert_exporter": "python",
   "pygments_lexer": "ipython3",
   "version": "3.5.2"
  }
 },
 "nbformat": 4,
 "nbformat_minor": 2
}
