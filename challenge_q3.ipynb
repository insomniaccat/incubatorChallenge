{
 "cells": [
  {
   "cell_type": "code",
   "execution_count": 20,
   "metadata": {},
   "outputs": [],
   "source": [
    "#import libraries\n",
    "import pandas as pd\n",
    "import numpy as np\n",
    "import matplotlib.pyplot as plt\n",
    "import seaborn as sns\n",
    "import geopandas as gpd\n",
    "import geojsonio\n",
    "\n",
    "from shapely.geometry import Point, Polygon"
   ]
  },
  {
   "cell_type": "code",
   "execution_count": 21,
   "metadata": {},
   "outputs": [
    {
     "name": "stdout",
     "output_type": "stream",
     "text": [
      "POINT (0 0)\n",
      "False\n",
      "<class 'shapely.geometry.point.Point'>\n"
     ]
    }
   ],
   "source": [
    "p1 = Point(0,0)\n",
    "print(p1)\n",
    "print(p1 == (0,0))\n",
    "print(type(p1))\n"
   ]
  },
  {
   "cell_type": "code",
   "execution_count": 22,
   "metadata": {},
   "outputs": [],
   "source": [
    "polygon = Polygon([(0,0),(1,1),(1,0)])"
   ]
  },
  {
   "cell_type": "code",
   "execution_count": 23,
   "metadata": {},
   "outputs": [
    {
     "name": "stdout",
     "output_type": "stream",
     "text": [
      "   case_id t_state    p_name  p_year  p_tnum  p_cap  t_manu  t_model  t_cap  \\\n",
      "0  3073400      CA  251 Wind    1987     194  18.43  Vestas  missing     95   \n",
      "1  3010830      CA  251 Wind    1987     194  18.43  Vestas  missing     95   \n",
      "2  3071557      CA  251 Wind    1987     194  18.43  Vestas  missing     95   \n",
      "3  3073368      CA  251 Wind    1987     194  18.43  Vestas  missing     95   \n",
      "4  3000753      CA  251 Wind    1987     194  18.43  Vestas  missing     95   \n",
      "\n",
      "   t_hh  t_rd  t_rsa  t_ttlh  t_conf_atr  t_conf_loc      xlong       ylat  \\\n",
      "0 -9999 -9999  -9999   -9999           2           3 -118.35114  35.090519   \n",
      "1 -9999 -9999  -9999   -9999           2           3 -118.36389  35.079796   \n",
      "2 -9999 -9999  -9999   -9999           2           3 -118.36966  35.077801   \n",
      "3 -9999 -9999  -9999   -9999           2           3 -118.35233  35.088692   \n",
      "4 -9999 -9999  -9999   -9999           2           3 -118.35319  35.086094   \n",
      "\n",
      "                       geometry  \n",
      "0  POINT (-118.35114 35.090519)  \n",
      "1  POINT (-118.36389 35.079796)  \n",
      "2  POINT (-118.36966 35.077801)  \n",
      "3  POINT (-118.35233 35.088692)  \n",
      "4  POINT (-118.35319 35.086094)  \n"
     ]
    }
   ],
   "source": [
    "geo = gpd.read_file('./data/geoJSON/uswtdb_v1_0_20180419.geojson')\n",
    "print(geo.head())\n",
    "geo = geo.to_json()\n",
    "#print(geo)"
   ]
  },
  {
   "cell_type": "code",
   "execution_count": null,
   "metadata": {},
   "outputs": [],
   "source": [
    "geojsonio.display(geo)\n"
   ]
  },
  {
   "cell_type": "code",
   "execution_count": null,
   "metadata": {},
   "outputs": [],
   "source": []
  }
 ],
 "metadata": {
  "kernelspec": {
   "display_name": "Python 3",
   "language": "python",
   "name": "python3"
  },
  "language_info": {
   "codemirror_mode": {
    "name": "ipython",
    "version": 3
   },
   "file_extension": ".py",
   "mimetype": "text/x-python",
   "name": "python",
   "nbconvert_exporter": "python",
   "pygments_lexer": "ipython3",
   "version": "3.5.2"
  }
 },
 "nbformat": 4,
 "nbformat_minor": 2
}
